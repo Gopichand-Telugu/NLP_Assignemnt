{
 "cells": [
  {
   "cell_type": "code",
   "execution_count": 3,
   "id": "8a1e4f39-e131-4770-aab4-2b7fb4e99be5",
   "metadata": {},
   "outputs": [
    {
     "name": "stderr",
     "output_type": "stream",
     "text": [
      "Device set to use cpu\n"
     ]
    },
    {
     "name": "stdin",
     "output_type": "stream",
     "text": [
      "Enter your movie review:  the movie was not  good\n"
     ]
    },
    {
     "name": "stdout",
     "output_type": "stream",
     "text": [
      "Review: t\n",
      "Sentiment: NEGATIVE (Confidence: 1.00)\n",
      "\n"
     ]
    }
   ],
   "source": [
    "import warnings\n",
    "warnings.filterwarnings(\"ignore\")\n",
    "from transformers import pipeline\n",
    "\n",
    "# Load a pre-trained sentiment analysis pipeline\n",
    "sentiment_pipeline = pipeline(\"sentiment-analysis\", model=\"distilbert-base-uncased-finetuned-sst-2-english\")\n",
    "\n",
    "# Sample movie 9reviews\n",
    "reviews = input(\"Enter your movie review: \")\n",
    "\n",
    "# Perform sentiment analysis\n",
    "results = sentiment_pipeline(reviews)\n",
    "\n",
    "# Print results\n",
    "for review, result in zip(reviews, results):\n",
    "    print(f\"Review: {review}\\nSentiment: {result['label']} (Confidence: {result['score']:.2f})\\n\")\n"
   ]
  }
 ],
 "metadata": {
  "kernelspec": {
   "display_name": "Python 3 (ipykernel)",
   "language": "python",
   "name": "python3"
  },
  "language_info": {
   "codemirror_mode": {
    "name": "ipython",
    "version": 3
   },
   "file_extension": ".py",
   "mimetype": "text/x-python",
   "name": "python",
   "nbconvert_exporter": "python",
   "pygments_lexer": "ipython3",
   "version": "3.12.4"
  }
 },
 "nbformat": 4,
 "nbformat_minor": 5
}
